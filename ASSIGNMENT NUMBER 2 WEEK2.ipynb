{
 "cells": [
  {
   "cell_type": "markdown",
   "id": "dc46aad8",
   "metadata": {},
   "source": [
    "Q1. HOW DO YOU COMMENT CODE IN PYTHON? WHAT ARE THE DIFFERENT TYPES OF COMMENTS?"
   ]
  },
  {
   "cell_type": "markdown",
   "id": "45f2881d",
   "metadata": {},
   "source": [
    "ANS:--There are two type of comment in python\n",
    "\n",
    "\n",
    "a. single line comment\n",
    "\n"
   ]
  },
  {
   "cell_type": "code",
   "execution_count": 4,
   "id": "49cbae25",
   "metadata": {},
   "outputs": [],
   "source": [
    "# THis is my 3rd class\n",
    "# Machine learning \n",
    "# Deep learning\n",
    "# Natural language processing\n",
    "# scala \n",
    "# kafka \n",
    "# hadoop\n",
    "# Github"
   ]
  },
  {
   "cell_type": "markdown",
   "id": "d0879aac",
   "metadata": {},
   "source": [
    "b. Double line comment"
   ]
  },
  {
   "cell_type": "code",
   "execution_count": 5,
   "id": "05e3b4ef",
   "metadata": {},
   "outputs": [
    {
     "data": {
      "text/plain": [
       "'THis is my 3rd class\\nMachine learning \\nDeep learning\\nNatural language processing\\nkafka \\nhadoop\\nGithub'"
      ]
     },
     "execution_count": 5,
     "metadata": {},
     "output_type": "execute_result"
    }
   ],
   "source": [
    "\"\"\"THis is my 3rd class\n",
    "Machine learning \n",
    "Deep learning\n",
    "Natural language processing\n",
    "kafka \n",
    "hadoop\n",
    "Github\"\"\""
   ]
  },
  {
   "cell_type": "markdown",
   "id": "3aba27ff",
   "metadata": {},
   "source": [
    "Q2. WHAT ARE VARIABLE IN PYTHON? HOW DO YOU DECLARE AND ASSIGN VALUE TO VARIABLE?\n",
    "\n",
    "\n",
    "ANS:-- The variable is:-\n",
    "example  a =[343,645,6,646,\"skills\"]\n",
    "in this list 'a' is a variable and all the integer and string is a assign value. \n",
    "\n",
    "  "
   ]
  },
  {
   "cell_type": "code",
   "execution_count": 89,
   "id": "e9ac7f90",
   "metadata": {},
   "outputs": [],
   "source": [
    "age = 25 #age is a variable"
   ]
  },
  {
   "cell_type": "code",
   "execution_count": 90,
   "id": "6d4529a6",
   "metadata": {},
   "outputs": [
    {
     "data": {
      "text/plain": [
       "25"
      ]
     },
     "execution_count": 90,
     "metadata": {},
     "output_type": "execute_result"
    }
   ],
   "source": [
    "age"
   ]
  },
  {
   "cell_type": "markdown",
   "id": "53e26e9a",
   "metadata": {},
   "source": [
    "Q3. HOW DO YOU CONVERT AND DATA TYPE TO ANOTHER IN PYTHON?\n",
    "\n",
    "Ans\n",
    "\n"
   ]
  },
  {
   "cell_type": "code",
   "execution_count": 171,
   "id": "67927e0c",
   "metadata": {},
   "outputs": [],
   "source": [
    " l = [1,4,5,78.9,\"pwskills\",\"data science\",True]"
   ]
  },
  {
   "cell_type": "code",
   "execution_count": 190,
   "id": "8fa34805",
   "metadata": {},
   "outputs": [
    {
     "data": {
      "text/plain": [
       "[1, 4, 5, 78.9, 'pwskills', 'data science', True]"
      ]
     },
     "execution_count": 190,
     "metadata": {},
     "output_type": "execute_result"
    }
   ],
   "source": [
    "l"
   ]
  },
  {
   "cell_type": "code",
   "execution_count": 191,
   "id": "acbd3839",
   "metadata": {},
   "outputs": [
    {
     "data": {
      "text/plain": [
       "list"
      ]
     },
     "execution_count": 191,
     "metadata": {},
     "output_type": "execute_result"
    }
   ],
   "source": [
    "type(l)"
   ]
  },
  {
   "cell_type": "code",
   "execution_count": 192,
   "id": "4ad45e99",
   "metadata": {},
   "outputs": [
    {
     "data": {
      "text/plain": [
       "78.9"
      ]
     },
     "execution_count": 192,
     "metadata": {},
     "output_type": "execute_result"
    }
   ],
   "source": [
    "l[3]"
   ]
  },
  {
   "cell_type": "code",
   "execution_count": 193,
   "id": "97d88475",
   "metadata": {},
   "outputs": [
    {
     "data": {
      "text/plain": [
       "float"
      ]
     },
     "execution_count": 193,
     "metadata": {},
     "output_type": "execute_result"
    }
   ],
   "source": [
    "type(l[3])"
   ]
  },
  {
   "cell_type": "code",
   "execution_count": 194,
   "id": "c7a66109",
   "metadata": {},
   "outputs": [
    {
     "data": {
      "text/plain": [
       "'78.9'"
      ]
     },
     "execution_count": 194,
     "metadata": {},
     "output_type": "execute_result"
    }
   ],
   "source": [
    "str(l[3])"
   ]
  },
  {
   "cell_type": "code",
   "execution_count": 195,
   "id": "6ff7057a",
   "metadata": {},
   "outputs": [
    {
     "data": {
      "text/plain": [
       "'data science'"
      ]
     },
     "execution_count": 195,
     "metadata": {},
     "output_type": "execute_result"
    }
   ],
   "source": [
    "l[5]"
   ]
  },
  {
   "cell_type": "code",
   "execution_count": 210,
   "id": "81d8d098",
   "metadata": {},
   "outputs": [
    {
     "data": {
      "text/plain": [
       "['d', 'a', 't', 'a', ' ', 's', 'c', 'i', 'e', 'n', 'c', 'e']"
      ]
     },
     "execution_count": 210,
     "metadata": {},
     "output_type": "execute_result"
    }
   ],
   "source": [
    "list(l[5])  #i dont know execute data science in individual form I am running code again but always show this"
   ]
  },
  {
   "cell_type": "code",
   "execution_count": 206,
   "id": "2afab695",
   "metadata": {},
   "outputs": [
    {
     "data": {
      "text/plain": [
       "{' ', 'a', 'c', 'd', 'e', 'i', 'n', 's', 't'}"
      ]
     },
     "execution_count": 206,
     "metadata": {},
     "output_type": "execute_result"
    }
   ],
   "source": [
    "set(l[5])"
   ]
  },
  {
   "cell_type": "code",
   "execution_count": 197,
   "id": "8c553479",
   "metadata": {},
   "outputs": [
    {
     "data": {
      "text/plain": [
       "{1, 4, 5, 78.9, 'data science', 'pwskills'}"
      ]
     },
     "execution_count": 197,
     "metadata": {},
     "output_type": "execute_result"
    }
   ],
   "source": [
    "set(l) #change list to set"
   ]
  },
  {
   "cell_type": "code",
   "execution_count": 198,
   "id": "47361a7c",
   "metadata": {},
   "outputs": [
    {
     "data": {
      "text/plain": [
       "(1, 4, 5, 78.9, 'pwskills', 'data science', True)"
      ]
     },
     "execution_count": 198,
     "metadata": {},
     "output_type": "execute_result"
    }
   ],
   "source": [
    "tuple(l) #change list to tuple"
   ]
  },
  {
   "cell_type": "code",
   "execution_count": 199,
   "id": "fa471508",
   "metadata": {},
   "outputs": [],
   "source": [
    "h = \"pwskills\""
   ]
  },
  {
   "cell_type": "code",
   "execution_count": 200,
   "id": "8ae1a3ee",
   "metadata": {},
   "outputs": [
    {
     "data": {
      "text/plain": [
       "'pwskills'"
      ]
     },
     "execution_count": 200,
     "metadata": {},
     "output_type": "execute_result"
    }
   ],
   "source": [
    "h"
   ]
  },
  {
   "cell_type": "code",
   "execution_count": 201,
   "id": "a12d59d0",
   "metadata": {},
   "outputs": [
    {
     "data": {
      "text/plain": [
       "str"
      ]
     },
     "execution_count": 201,
     "metadata": {},
     "output_type": "execute_result"
    }
   ],
   "source": [
    "type(h)"
   ]
  },
  {
   "cell_type": "code",
   "execution_count": 205,
   "id": "fe5f4d6f",
   "metadata": {},
   "outputs": [
    {
     "data": {
      "text/plain": [
       "1.0"
      ]
     },
     "execution_count": 205,
     "metadata": {},
     "output_type": "execute_result"
    }
   ],
   "source": [
    "float(True) #change boolean value to floating number "
   ]
  },
  {
   "cell_type": "code",
   "execution_count": 203,
   "id": "d44bc558",
   "metadata": {},
   "outputs": [],
   "source": [
    "x = int(3.24)"
   ]
  },
  {
   "cell_type": "code",
   "execution_count": 118,
   "id": "e3806dba",
   "metadata": {},
   "outputs": [],
   "source": [
    "a = 34"
   ]
  },
  {
   "cell_type": "code",
   "execution_count": 119,
   "id": "a9a0e8f7",
   "metadata": {},
   "outputs": [
    {
     "data": {
      "text/plain": [
       "34"
      ]
     },
     "execution_count": 119,
     "metadata": {},
     "output_type": "execute_result"
    }
   ],
   "source": [
    "a"
   ]
  },
  {
   "cell_type": "code",
   "execution_count": 120,
   "id": "74b7a220",
   "metadata": {},
   "outputs": [
    {
     "data": {
      "text/plain": [
       "int"
      ]
     },
     "execution_count": 120,
     "metadata": {},
     "output_type": "execute_result"
    }
   ],
   "source": [
    "type(a) #change integer to string."
   ]
  },
  {
   "cell_type": "code",
   "execution_count": 121,
   "id": "4e7beb8c",
   "metadata": {},
   "outputs": [],
   "source": [
    "a = str(34)"
   ]
  },
  {
   "cell_type": "code",
   "execution_count": 122,
   "id": "2092b6d8",
   "metadata": {},
   "outputs": [
    {
     "data": {
      "text/plain": [
       "str"
      ]
     },
     "execution_count": 122,
     "metadata": {},
     "output_type": "execute_result"
    }
   ],
   "source": [
    "type(a)"
   ]
  },
  {
   "cell_type": "code",
   "execution_count": 123,
   "id": "01afca63",
   "metadata": {},
   "outputs": [],
   "source": [
    "b = \"PWSKILLS\""
   ]
  },
  {
   "cell_type": "code",
   "execution_count": 124,
   "id": "c655d0cb",
   "metadata": {},
   "outputs": [
    {
     "data": {
      "text/plain": [
       "'PWSKILLS'"
      ]
     },
     "execution_count": 124,
     "metadata": {},
     "output_type": "execute_result"
    }
   ],
   "source": [
    "b\n"
   ]
  },
  {
   "cell_type": "code",
   "execution_count": 126,
   "id": "d4e41f49",
   "metadata": {},
   "outputs": [],
   "source": [
    "c = list(\"hello\")"
   ]
  },
  {
   "cell_type": "code",
   "execution_count": 92,
   "id": "85bacdf7",
   "metadata": {},
   "outputs": [
    {
     "data": {
      "text/plain": [
       "list"
      ]
     },
     "execution_count": 92,
     "metadata": {},
     "output_type": "execute_result"
    }
   ],
   "source": [
    "type(c)"
   ]
  },
  {
   "cell_type": "code",
   "execution_count": null,
   "id": "d74f01ab",
   "metadata": {},
   "outputs": [],
   "source": []
  },
  {
   "cell_type": "code",
   "execution_count": 94,
   "id": "52a9db11",
   "metadata": {},
   "outputs": [],
   "source": [
    "e = list({2,3,5,6,4})"
   ]
  },
  {
   "cell_type": "code",
   "execution_count": 95,
   "id": "a7d00d94",
   "metadata": {},
   "outputs": [
    {
     "data": {
      "text/plain": [
       "[2, 3, 4, 5, 6]"
      ]
     },
     "execution_count": 95,
     "metadata": {},
     "output_type": "execute_result"
    }
   ],
   "source": [
    "e"
   ]
  },
  {
   "cell_type": "markdown",
   "id": "5dcf92de",
   "metadata": {},
   "source": [
    "Q4. HOW DO YOU WRITE AND EXECUTE A PYTHON  SCRIPT FROM THE COMMAND LINE?"
   ]
  },
  {
   "cell_type": "code",
   "execution_count": 49,
   "id": "31466684",
   "metadata": {},
   "outputs": [],
   "source": [
    " l = \"Data science\""
   ]
  },
  {
   "cell_type": "code",
   "execution_count": 50,
   "id": "a307e858",
   "metadata": {},
   "outputs": [
    {
     "data": {
      "text/plain": [
       "'Data science'"
      ]
     },
     "execution_count": 50,
     "metadata": {},
     "output_type": "execute_result"
    }
   ],
   "source": [
    "l"
   ]
  },
  {
   "cell_type": "markdown",
   "id": "f3a7bbf4",
   "metadata": {},
   "source": [
    "Q5. Given a list my_list = [1,2,3,4,5], write the code to slice the list and obtain the sub-list[2,3]"
   ]
  },
  {
   "cell_type": "code",
   "execution_count": 51,
   "id": "3c959a01",
   "metadata": {},
   "outputs": [],
   "source": [
    "my_list = [1,2,3,4,5]"
   ]
  },
  {
   "cell_type": "code",
   "execution_count": 52,
   "id": "65f8b368",
   "metadata": {},
   "outputs": [
    {
     "data": {
      "text/plain": [
       "[1, 2, 3, 4, 5]"
      ]
     },
     "execution_count": 52,
     "metadata": {},
     "output_type": "execute_result"
    }
   ],
   "source": [
    "my_list"
   ]
  },
  {
   "cell_type": "code",
   "execution_count": 96,
   "id": "a6088925",
   "metadata": {},
   "outputs": [],
   "source": [
    "sub_list = my_list[1:3]"
   ]
  },
  {
   "cell_type": "code",
   "execution_count": 127,
   "id": "60ff0057",
   "metadata": {},
   "outputs": [
    {
     "data": {
      "text/plain": [
       "[2, 3]"
      ]
     },
     "execution_count": 127,
     "metadata": {},
     "output_type": "execute_result"
    }
   ],
   "source": [
    "sub_list #slicing index"
   ]
  },
  {
   "cell_type": "markdown",
   "id": "1c479acf",
   "metadata": {},
   "source": [
    "Q6.What is a complex number in mathematics, and how is it represented in python?\n",
    "\n",
    "ans:- the complex in mathemetics example :- 4+4j,2+5j,3+6j is example of complex number. and 4,2,3 is a real part and 4j,5j,6j is a imaginary part and here is the some code how to execute in python."
   ]
  },
  {
   "cell_type": "code",
   "execution_count": 99,
   "id": "cc41f2d9",
   "metadata": {},
   "outputs": [],
   "source": [
    "c = 34+5j #34 is a real part of complex number and 5j is a imag part of complex number"
   ]
  },
  {
   "cell_type": "code",
   "execution_count": 100,
   "id": "0f51dffd",
   "metadata": {},
   "outputs": [
    {
     "data": {
      "text/plain": [
       "(34+5j)"
      ]
     },
     "execution_count": 100,
     "metadata": {},
     "output_type": "execute_result"
    }
   ],
   "source": [
    "c"
   ]
  },
  {
   "cell_type": "code",
   "execution_count": 67,
   "id": "6944ea55",
   "metadata": {},
   "outputs": [
    {
     "data": {
      "text/plain": [
       "complex"
      ]
     },
     "execution_count": 67,
     "metadata": {},
     "output_type": "execute_result"
    }
   ],
   "source": [
    "type(c)"
   ]
  },
  {
   "cell_type": "code",
   "execution_count": 68,
   "id": "ad70b32c",
   "metadata": {},
   "outputs": [
    {
     "data": {
      "text/plain": [
       "34.0"
      ]
     },
     "execution_count": 68,
     "metadata": {},
     "output_type": "execute_result"
    }
   ],
   "source": [
    "c.real"
   ]
  },
  {
   "cell_type": "code",
   "execution_count": 65,
   "id": "32de65ce",
   "metadata": {},
   "outputs": [
    {
     "data": {
      "text/plain": [
       "5.0"
      ]
     },
     "execution_count": 65,
     "metadata": {},
     "output_type": "execute_result"
    }
   ],
   "source": [
    "c.imag\n"
   ]
  },
  {
   "cell_type": "markdown",
   "id": "311992ea",
   "metadata": {},
   "source": [
    "Q7. what is the correct way to declare a variable named age and assign the value 25 to it?"
   ]
  },
  {
   "cell_type": "code",
   "execution_count": 101,
   "id": "81129779",
   "metadata": {},
   "outputs": [],
   "source": [
    "age = 22"
   ]
  },
  {
   "cell_type": "code",
   "execution_count": 128,
   "id": "bd8393b9",
   "metadata": {},
   "outputs": [
    {
     "data": {
      "text/plain": [
       "22"
      ]
     },
     "execution_count": 128,
     "metadata": {},
     "output_type": "execute_result"
    }
   ],
   "source": [
    "age"
   ]
  },
  {
   "cell_type": "markdown",
   "id": "728d4f72",
   "metadata": {},
   "source": [
    "Q8. Declare a variable named price and assign the value 9.99 to it. What data type does this variable belong to?\n",
    "\n",
    "ans:- This variable belong to floating data types.Floating types just use for weight,Thermometer etc."
   ]
  },
  {
   "cell_type": "code",
   "execution_count": 211,
   "id": "c4d367ef",
   "metadata": {},
   "outputs": [],
   "source": [
    "p = 9.99 #9.99 is a floating number"
   ]
  },
  {
   "cell_type": "code",
   "execution_count": 130,
   "id": "d1544186",
   "metadata": {},
   "outputs": [
    {
     "data": {
      "text/plain": [
       "float"
      ]
     },
     "execution_count": 130,
     "metadata": {},
     "output_type": "execute_result"
    }
   ],
   "source": [
    "type(p)"
   ]
  },
  {
   "cell_type": "markdown",
   "id": "735e7484",
   "metadata": {},
   "source": [
    "Q9. Create a variable named name and assign your full name to it as a string. How would you print the value of this variable?"
   ]
  },
  {
   "cell_type": "code",
   "execution_count": 107,
   "id": "3479c8e0",
   "metadata": {},
   "outputs": [],
   "source": [
    "name = \"Md Salman Reyaz\""
   ]
  },
  {
   "cell_type": "code",
   "execution_count": 109,
   "id": "02b688bf",
   "metadata": {},
   "outputs": [
    {
     "data": {
      "text/plain": [
       "'Md Salman Reyaz'"
      ]
     },
     "execution_count": 109,
     "metadata": {},
     "output_type": "execute_result"
    }
   ],
   "source": [
    "name"
   ]
  },
  {
   "cell_type": "code",
   "execution_count": 131,
   "id": "3f9e815b",
   "metadata": {
    "scrolled": true
   },
   "outputs": [
    {
     "data": {
      "text/plain": [
       "str"
      ]
     },
     "execution_count": 131,
     "metadata": {},
     "output_type": "execute_result"
    }
   ],
   "source": [
    "type(name)"
   ]
  },
  {
   "cell_type": "markdown",
   "id": "93d7aecf",
   "metadata": {},
   "source": [
    "Q10. Given the string \"Hello World!\", extract the substring \"World\"."
   ]
  },
  {
   "cell_type": "code",
   "execution_count": 156,
   "id": "b0682323",
   "metadata": {},
   "outputs": [],
   "source": [
    "python = \"Hello,World!\""
   ]
  },
  {
   "cell_type": "code",
   "execution_count": 157,
   "id": "68a4dd9d",
   "metadata": {},
   "outputs": [
    {
     "data": {
      "text/plain": [
       "'Hello World!'"
      ]
     },
     "execution_count": 157,
     "metadata": {},
     "output_type": "execute_result"
    }
   ],
   "source": [
    "python"
   ]
  },
  {
   "cell_type": "code",
   "execution_count": 158,
   "id": "4de41ab5",
   "metadata": {},
   "outputs": [
    {
     "data": {
      "text/plain": [
       "'World'"
      ]
     },
     "execution_count": 158,
     "metadata": {},
     "output_type": "execute_result"
    }
   ],
   "source": [
    "python[6:11]"
   ]
  },
  {
   "cell_type": "code",
   "execution_count": 159,
   "id": "a20112a9",
   "metadata": {},
   "outputs": [],
   "source": [
    "substring = python[6:11]"
   ]
  },
  {
   "cell_type": "code",
   "execution_count": 160,
   "id": "5c1d9c09",
   "metadata": {},
   "outputs": [
    {
     "data": {
      "text/plain": [
       "'World'"
      ]
     },
     "execution_count": 160,
     "metadata": {},
     "output_type": "execute_result"
    }
   ],
   "source": [
    "substring"
   ]
  },
  {
   "cell_type": "markdown",
   "id": "85d83668",
   "metadata": {},
   "source": [
    "Q11. Create a variable named \"is_student\" and assign it a boolean value indicating whether you are currently a student or not."
   ]
  },
  {
   "cell_type": "code",
   "execution_count": 85,
   "id": "cef428e9",
   "metadata": {},
   "outputs": [],
   "source": [
    "is_student = True #yes i'm a student "
   ]
  },
  {
   "cell_type": "code",
   "execution_count": 86,
   "id": "2fc3f2d7",
   "metadata": {},
   "outputs": [
    {
     "data": {
      "text/plain": [
       "True"
      ]
     },
     "execution_count": 86,
     "metadata": {},
     "output_type": "execute_result"
    }
   ],
   "source": [
    "is_student\n"
   ]
  },
  {
   "cell_type": "code",
   "execution_count": null,
   "id": "0784a72d",
   "metadata": {},
   "outputs": [],
   "source": []
  }
 ],
 "metadata": {
  "kernelspec": {
   "display_name": "Python 3 (ipykernel)",
   "language": "python",
   "name": "python3"
  },
  "language_info": {
   "codemirror_mode": {
    "name": "ipython",
    "version": 3
   },
   "file_extension": ".py",
   "mimetype": "text/x-python",
   "name": "python",
   "nbconvert_exporter": "python",
   "pygments_lexer": "ipython3",
   "version": "3.9.12"
  }
 },
 "nbformat": 4,
 "nbformat_minor": 5
}
